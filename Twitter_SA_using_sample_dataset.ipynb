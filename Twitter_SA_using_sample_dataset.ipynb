{
 "cells": [
  {
   "cell_type": "code",
   "execution_count": 42,
   "metadata": {},
   "outputs": [],
   "source": [
    "# DataFrame\n",
    "import pandas as pd\n",
    "\n",
    "# Matplot\n",
    "import matplotlib.pyplot as plt\n",
    "%matplotlib inline\n",
    "\n",
    "# Scikit-learn\n",
    "from sklearn.model_selection import train_test_split\n",
    "from sklearn.preprocessing import LabelEncoder\n",
    "from sklearn.metrics import confusion_matrix, classification_report, accuracy_score\n",
    "from sklearn.manifold import TSNE\n",
    "from sklearn.feature_extraction.text import TfidfVectorizer\n",
    "\n",
    "# Keras\n",
    "from keras.preprocessing.text import Tokenizer\n",
    "from keras.preprocessing.sequence import pad_sequences\n",
    "from keras.models import Sequential\n",
    "from keras.layers import Activation, Dense, Dropout, Embedding, Flatten, Conv1D, MaxPooling1D, LSTM\n",
    "from keras import utils\n",
    "from keras.callbacks import ReduceLROnPlateau, EarlyStopping\n",
    "\n",
    "# Word2vec\n",
    "import gensim\n",
    "\n",
    "# Utility\n",
    "import re\n",
    "import string\n",
    "import numpy as np\n",
    "import os\n",
    "from collections import Counter\n",
    "import logging\n",
    "import time\n",
    "import pickle\n",
    "import itertools\n",
    "\n",
    "# Set log\n",
    "logging.basicConfig(format='%(asctime)s : %(levelname)s : %(message)s', level=logging.INFO)"
   ]
  },
  {
   "cell_type": "code",
   "execution_count": 20,
   "metadata": {},
   "outputs": [],
   "source": [
    "# DATASET\n",
    "DATASET_COLUMNS = [\"TWID\",\"TEXT\",\"VALUE\"]\n",
    "DATASET_ENCODING = \"ISO-8859-1\"\n",
    "TRAIN_SIZE = 0.8\n",
    "\n",
    "# WORD2VEC \n",
    "W2V_SIZE = 300\n",
    "W2V_WINDOW = 7\n",
    "W2V_EPOCH = 32\n",
    "W2V_MIN_COUNT = 10\n",
    "\n",
    "# KERAS\n",
    "SEQUENCE_LENGTH = 300\n",
    "EPOCHS = 1\n",
    "BATCH_SIZE = 1024\n",
    "\n",
    "# SENTIMENT\n",
    "POSITIVE = \"POSITIVE\"\n",
    "NEGATIVE = \"NEGATIVE\"\n",
    "NEUTRAL = \"NEUTRAL\"\n",
    "SENTIMENT_THRESHOLDS = (0.4, 0.7)\n",
    "\n",
    "# EXPORT\n",
    "KERAS_MODEL = \"model.h5\"\n",
    "WORD2VEC_MODEL = \"model.w2v\"\n",
    "TOKENIZER_MODEL = \"tokenizer.pkl\"\n",
    "ENCODER_MODEL = \"encoder.pkl\""
   ]
  },
  {
   "cell_type": "code",
   "execution_count": 28,
   "metadata": {},
   "outputs": [
    {
     "name": "stdout",
     "output_type": "stream",
     "text": [
      "Open file: F:\\VU\\The_Social_Web\\etd_full.csv\n"
     ]
    }
   ],
   "source": [
    "dataset_path = \"F:\\VU\\The_Social_Web\\etd_full.csv\"\n",
    "print(\"Open file:\", dataset_path)\n",
    "df = pd.read_csv(dataset_path, encoding =DATASET_ENCODING ,\n",
    "                 lineterminator='\\n')\n",
    "df = df.sample(20000)"
   ]
  },
  {
   "cell_type": "code",
   "execution_count": 29,
   "metadata": {},
   "outputs": [
    {
     "name": "stdout",
     "output_type": "stream",
     "text": [
      "Dataset size: 20000\n"
     ]
    }
   ],
   "source": [
    "print(\"Dataset size:\", len(df))"
   ]
  },
  {
   "cell_type": "code",
   "execution_count": 30,
   "metadata": {},
   "outputs": [
    {
     "data": {
      "text/html": [
       "<div>\n",
       "<style scoped>\n",
       "    .dataframe tbody tr th:only-of-type {\n",
       "        vertical-align: middle;\n",
       "    }\n",
       "\n",
       "    .dataframe tbody tr th {\n",
       "        vertical-align: top;\n",
       "    }\n",
       "\n",
       "    .dataframe thead th {\n",
       "        text-align: right;\n",
       "    }\n",
       "</style>\n",
       "<table border=\"1\" class=\"dataframe\">\n",
       "  <thead>\n",
       "    <tr style=\"text-align: right;\">\n",
       "      <th></th>\n",
       "      <th>TWID</th>\n",
       "      <th>TEXT</th>\n",
       "      <th>VALUE</th>\n",
       "    </tr>\n",
       "  </thead>\n",
       "  <tbody>\n",
       "    <tr>\n",
       "      <th>246258</th>\n",
       "      <td>1.982200e+09</td>\n",
       "      <td>damn ... exam tomorrow</td>\n",
       "      <td>-1</td>\n",
       "    </tr>\n",
       "    <tr>\n",
       "      <th>53493</th>\n",
       "      <td>1.680240e+09</td>\n",
       "      <td>fashion show was fuuuun! im gunna miss it!  i'...</td>\n",
       "      <td>-1</td>\n",
       "    </tr>\n",
       "    <tr>\n",
       "      <th>1238192</th>\n",
       "      <td>1.993224e+09</td>\n",
       "      <td>@yasexy http://twitpic.com/6dz52 - i likes ma,...</td>\n",
       "      <td>1</td>\n",
       "    </tr>\n",
       "    <tr>\n",
       "      <th>103424</th>\n",
       "      <td>1.795648e+09</td>\n",
       "      <td>Google reader hates me today</td>\n",
       "      <td>-1</td>\n",
       "    </tr>\n",
       "    <tr>\n",
       "      <th>1241680</th>\n",
       "      <td>1.994057e+09</td>\n",
       "      <td>meatball sub!!! and RC cola :/ But meatball su...</td>\n",
       "      <td>1</td>\n",
       "    </tr>\n",
       "    <tr>\n",
       "      <th>792387</th>\n",
       "      <td>2.326266e+09</td>\n",
       "      <td>@iheartnynuk sorry...</td>\n",
       "      <td>-1</td>\n",
       "    </tr>\n",
       "    <tr>\n",
       "      <th>1670832</th>\n",
       "      <td>NaN</td>\n",
       "      <td>a tighter editorial process and firmer direction</td>\n",
       "      <td>0</td>\n",
       "    </tr>\n",
       "    <tr>\n",
       "      <th>3288</th>\n",
       "      <td>1.468563e+09</td>\n",
       "      <td>@flowersophy I slept so much when I was a litt...</td>\n",
       "      <td>-1</td>\n",
       "    </tr>\n",
       "    <tr>\n",
       "      <th>2459507</th>\n",
       "      <td>8.026642e+17</td>\n",
       "      <td>We are happy to announce $5.00 OFF on our Enti...</td>\n",
       "      <td>1</td>\n",
       "    </tr>\n",
       "    <tr>\n",
       "      <th>1433493</th>\n",
       "      <td>2.060456e+09</td>\n",
       "      <td>is having fun singing to i am a unicorn</td>\n",
       "      <td>1</td>\n",
       "    </tr>\n",
       "  </tbody>\n",
       "</table>\n",
       "</div>"
      ],
      "text/plain": [
       "                 TWID                                               TEXT  \\\n",
       "246258   1.982200e+09                            damn ... exam tomorrow    \n",
       "53493    1.680240e+09  fashion show was fuuuun! im gunna miss it!  i'...   \n",
       "1238192  1.993224e+09  @yasexy http://twitpic.com/6dz52 - i likes ma,...   \n",
       "103424   1.795648e+09                      Google reader hates me today    \n",
       "1241680  1.994057e+09  meatball sub!!! and RC cola :/ But meatball su...   \n",
       "792387   2.326266e+09                             @iheartnynuk sorry...    \n",
       "1670832           NaN   a tighter editorial process and firmer direction   \n",
       "3288     1.468563e+09  @flowersophy I slept so much when I was a litt...   \n",
       "2459507  8.026642e+17  We are happy to announce $5.00 OFF on our Enti...   \n",
       "1433493  2.060456e+09           is having fun singing to i am a unicorn    \n",
       "\n",
       "         VALUE  \n",
       "246258      -1  \n",
       "53493       -1  \n",
       "1238192      1  \n",
       "103424      -1  \n",
       "1241680      1  \n",
       "792387      -1  \n",
       "1670832      0  \n",
       "3288        -1  \n",
       "2459507      1  \n",
       "1433493      1  "
      ]
     },
     "execution_count": 30,
     "metadata": {},
     "output_type": "execute_result"
    }
   ],
   "source": [
    "df.head(10)"
   ]
  },
  {
   "cell_type": "code",
   "execution_count": 31,
   "metadata": {},
   "outputs": [],
   "source": [
    "decode_map = {-1: \"NEGATIVE\", 1: \"POSITIVE\", 0: \"NEUTRAL\"}\n",
    "def decode_sentiment(label):\n",
    "    return decode_map[int(label)]"
   ]
  },
  {
   "cell_type": "code",
   "execution_count": 32,
   "metadata": {},
   "outputs": [
    {
     "name": "stdout",
     "output_type": "stream",
     "text": [
      "Wall time: 29 ms\n"
     ]
    }
   ],
   "source": [
    "%%time\n",
    "df.VALUE = df.VALUE.apply(lambda x: decode_sentiment(x))"
   ]
  },
  {
   "cell_type": "code",
   "execution_count": 33,
   "metadata": {},
   "outputs": [
    {
     "data": {
      "text/plain": [
       "Text(0.5, 1.0, 'Dataset labels distribuition')"
      ]
     },
     "execution_count": 33,
     "metadata": {},
     "output_type": "execute_result"
    },
    {
     "data": {
      "image/png": "[encoded data removed]",
      "text/plain": [
       "<Figure size 1152x576 with 1 Axes>"
      ]
     },
     "metadata": {
      "needs_background": "light"
     },
     "output_type": "display_data"
    }
   ],
   "source": [
    "target_cnt = Counter(df.VALUE)\n",
    "\n",
    "plt.figure(figsize=(16,8))\n",
    "plt.bar(target_cnt.keys(), target_cnt.values())\n",
    "plt.title(\"Dataset labels distribuition\")"
   ]
  },
  {
   "cell_type": "code",
   "execution_count": 34,
   "metadata": {},
   "outputs": [
    {
     "data": {
      "text/plain": [
       "246258                               damn ... exam tomorrow \n",
       "53493      fashion show was fuuuun! im gunna miss it!  i'...\n",
       "1238192    @yasexy http://twitpic.com/6dz52 - i likes ma,...\n",
       "103424                         Google reader hates me today \n",
       "1241680    meatball sub!!! and RC cola :/ But meatball su...\n",
       "792387                                @iheartnynuk sorry... \n",
       "1670832     a tighter editorial process and firmer direction\n",
       "3288       @flowersophy I slept so much when I was a litt...\n",
       "2459507    We are happy to announce $5.00 OFF on our Enti...\n",
       "1433493             is having fun singing to i am a unicorn \n",
       "Name: TEXT, dtype: object"
      ]
     },
     "execution_count": 34,
     "metadata": {},
     "output_type": "execute_result"
    }
   ],
   "source": [
    "df.TEXT.head(10)"
   ]
  },
  {
   "cell_type": "code",
   "execution_count": 35,
   "metadata": {},
   "outputs": [
    {
     "name": "stdout",
     "output_type": "stream",
     "text": [
      "TRAIN size: 16000\n",
      "TEST size: 4000\n"
     ]
    }
   ],
   "source": [
    "# split train, test data \n",
    "df_train, df_test = train_test_split(df, test_size=1-TRAIN_SIZE, random_state=42)\n",
    "print(\"TRAIN size:\", len(df_train))\n",
    "print(\"TEST size:\", len(df_test))"
   ]
  },
  {
   "cell_type": "code",
   "execution_count": 51,
   "metadata": {},
   "outputs": [
    {
     "data": {
      "text/html": [
       "<div>\n",
       "<style scoped>\n",
       "    .dataframe tbody tr th:only-of-type {\n",
       "        vertical-align: middle;\n",
       "    }\n",
       "\n",
       "    .dataframe tbody tr th {\n",
       "        vertical-align: top;\n",
       "    }\n",
       "\n",
       "    .dataframe thead th {\n",
       "        text-align: right;\n",
       "    }\n",
       "</style>\n",
       "<table border=\"1\" class=\"dataframe\">\n",
       "  <thead>\n",
       "    <tr style=\"text-align: right;\">\n",
       "      <th></th>\n",
       "      <th>TWID</th>\n",
       "      <th>TEXT</th>\n",
       "      <th>VALUE</th>\n",
       "    </tr>\n",
       "  </thead>\n",
       "  <tbody>\n",
       "    <tr>\n",
       "      <th>1651725</th>\n",
       "      <td>NaN</td>\n",
       "      <td>The film 's plot</td>\n",
       "      <td>NEUTRAL</td>\n",
       "    </tr>\n",
       "    <tr>\n",
       "      <th>408066</th>\n",
       "      <td>2.059323e+09</td>\n",
       "      <td>@justlikeanovel   I know that feeling. I hope ...</td>\n",
       "      <td>NEGATIVE</td>\n",
       "    </tr>\n",
       "    <tr>\n",
       "      <th>1808898</th>\n",
       "      <td>NaN</td>\n",
       "      <td>the movie to a higher level</td>\n",
       "      <td>POSITIVE</td>\n",
       "    </tr>\n",
       "    <tr>\n",
       "      <th>703798</th>\n",
       "      <td>2.255819e+09</td>\n",
       "      <td>@Kimble09 Yea I took some DimeTapp (yum) but I...</td>\n",
       "      <td>NEGATIVE</td>\n",
       "    </tr>\n",
       "    <tr>\n",
       "      <th>2208955</th>\n",
       "      <td>7.960528e+17</td>\n",
       "      <td>Happy birthday to my girl ððâ¤ï¸ @grav...</td>\n",
       "      <td>POSITIVE</td>\n",
       "    </tr>\n",
       "  </tbody>\n",
       "</table>\n",
       "</div>"
      ],
      "text/plain": [
       "                 TWID                                               TEXT  \\\n",
       "1651725           NaN                                   The film 's plot   \n",
       "408066   2.059323e+09  @justlikeanovel   I know that feeling. I hope ...   \n",
       "1808898           NaN                        the movie to a higher level   \n",
       "703798   2.255819e+09  @Kimble09 Yea I took some DimeTapp (yum) but I...   \n",
       "2208955  7.960528e+17  Happy birthday to my girl ððâ¤ï¸ @grav...   \n",
       "\n",
       "            VALUE  \n",
       "1651725   NEUTRAL  \n",
       "408066   NEGATIVE  \n",
       "1808898  POSITIVE  \n",
       "703798   NEGATIVE  \n",
       "2208955  POSITIVE  "
      ]
     },
     "execution_count": 51,
     "metadata": {},
     "output_type": "execute_result"
    }
   ],
   "source": [
    "df_train.head()"
   ]
  },
  {
   "cell_type": "code",
   "execution_count": 52,
   "metadata": {},
   "outputs": [],
   "source": [
    "# tokenization\n",
    "documents = [_text.split() for _text in df_train.TEXT]"
   ]
  },
  {
   "cell_type": "code",
   "execution_count": 86,
   "metadata": {},
   "outputs": [],
   "source": [
    "# cleaning token\n",
    "def cleaned(token):\n",
    "    if token == 'u':\n",
    "        return 'you'\n",
    "    if token == 'r':\n",
    "        return 'are'\n",
    "    if token == 'some1':\n",
    "        return 'someone'\n",
    "    if token == 'yrs':\n",
    "        return 'years'\n",
    "    if token == 'hrs':\n",
    "        return 'hours'\n",
    "    if token == 'mins':\n",
    "        return 'minutes'\n",
    "    if token == 'secs':\n",
    "        return 'seconds'\n",
    "    if token == 'pls' or token == 'plz':\n",
    "        return 'please'\n",
    "    if token == '2morow' or token == '2moro':\n",
    "        return 'tomorrow'\n",
    "    if token == '2day':\n",
    "        return 'today'\n",
    "    if token == '4got' or token == '4gotten':\n",
    "        return 'forget'\n",
    "    if token in ['hahah', 'hahaha', 'hahahaha']:\n",
    "        return 'haha'\n",
    "    if token == \"mother's\":\n",
    "        return \"mother\"\n",
    "    if token == \"mom's\":\n",
    "        return \"mom\"\n",
    "    if token == \"dad's\":\n",
    "        return \"dad\"\n",
    "    if token == 'bday' or token == 'b-day':\n",
    "        return 'birthday'\n",
    "    if token in [\"i'm\", \"don't\", \"can't\", \"couldn't\", \"aren't\", \"wouldn't\", \"isn't\", \"didn't\", \"hadn't\",\n",
    "                 \"doesn't\", \"won't\", \"haven't\", \"wasn't\", \"hasn't\", \"shouldn't\", \"ain't\", \"they've\"]:\n",
    "        return token.replace(\"'\", \"\")\n",
    "    if token in ['lmao', 'lolz', 'rofl']:\n",
    "        return 'lol'\n",
    "    if token == '<3':\n",
    "        return 'love'\n",
    "    if token == 'thanx' or token == 'thnx':\n",
    "        return 'thanks'\n",
    "    if token == 'goood':\n",
    "        return 'good'\n",
    "    if token in ['amp', 'quot', 'lt', 'gt', '½25', '..', '. .', '. . .']:\n",
    "        return ''\n",
    "    return token\n",
    "\n",
    "# processing\n",
    "def process_token(tweet_tokens):\n",
    "\n",
    "    cleaned_tokens = []\n",
    "\n",
    "    for token in tweet_tokens:\n",
    "        # Eliminating the token if it is a link\n",
    "        token = re.sub(r'''(?i)\\b((?:https?://|www\\d{0,3}[.]|[a-z0-9.\\-]+[.][a-z]{2,4}/)(?:[^\\s()<>]+|\\(([^\\s()<>]+|(\\([^\\s()<>]+\\)))*\\))+(?:\\(([^\\s()<>]+|(\\([^\\s()<>]+\\)))*\\)|[^\\s`!()\\[\\]{};:'\".,<>?«»“”‘’]))''', \" \", token)\n",
    "        # Eliminating the token if it is a mention\n",
    "        token = re.sub(\"(@[A-Za-z0-9_]+)\",\"\", token)\n",
    "        # Eliminating the token if it is not characters in English\n",
    "        token = re.sub(\"([^A-Za-z0-9_]+)\",\"\", token)\n",
    "        \n",
    "        cleaned_token = cleaned(token.lower())\n",
    "        \n",
    "        if cleaned_token == \"idk\":\n",
    "            cleaned_tokens.append('i')\n",
    "            cleaned_tokens.append('dont')\n",
    "            cleaned_tokens.append('know')\n",
    "            continue\n",
    "        if cleaned_token == \"i'll\":\n",
    "            cleaned_tokens.append('i')\n",
    "            cleaned_tokens.append('will')\n",
    "            continue\n",
    "        if cleaned_token == \"you'll\":\n",
    "            cleaned_tokens.append('you')\n",
    "            cleaned_tokens.append('will')\n",
    "            continue\n",
    "        if cleaned_token == \"we'll\":\n",
    "            cleaned_tokens.append('we')\n",
    "            cleaned_tokens.append('will')\n",
    "            continue\n",
    "        if cleaned_token == \"it'll\":\n",
    "            cleaned_tokens.append('it')\n",
    "            cleaned_tokens.append('will')\n",
    "            continue\n",
    "        if cleaned_token == \"it's\":\n",
    "            cleaned_tokens.append('it')\n",
    "            cleaned_tokens.append('is')\n",
    "            continue\n",
    "        if cleaned_token == \"i've\":\n",
    "            cleaned_tokens.append('i')\n",
    "            cleaned_tokens.append('have')\n",
    "            continue\n",
    "        if cleaned_token == \"you've\":\n",
    "            cleaned_tokens.append('you')\n",
    "            cleaned_tokens.append('have')\n",
    "            continue\n",
    "        if cleaned_token == \"we've\":\n",
    "            cleaned_tokens.append('we')\n",
    "            cleaned_tokens.append('have')\n",
    "            continue\n",
    "        if cleaned_token == \"they've\":\n",
    "            cleaned_tokens.append('they')\n",
    "            cleaned_tokens.append('have')\n",
    "            continue\n",
    "        if cleaned_token == \"you're\":\n",
    "            cleaned_tokens.append('you')\n",
    "            cleaned_tokens.append('are')\n",
    "            continue\n",
    "        if cleaned_token == \"we're\":\n",
    "            cleaned_tokens.append('we')\n",
    "            cleaned_tokens.append('are')\n",
    "            continue\n",
    "        if cleaned_token == \"they're\":\n",
    "            cleaned_tokens.append('they')\n",
    "            cleaned_tokens.append('are')\n",
    "            continue\n",
    "        if cleaned_token == \"let's\":\n",
    "            cleaned_tokens.append('let')\n",
    "            cleaned_tokens.append('us')\n",
    "            continue\n",
    "        if cleaned_token == \"she's\":\n",
    "            cleaned_tokens.append('she')\n",
    "            cleaned_tokens.append('is')\n",
    "            continue\n",
    "        if cleaned_token == \"he's\":\n",
    "            cleaned_tokens.append('he')\n",
    "            cleaned_tokens.append('is')\n",
    "            continue\n",
    "        if cleaned_token == \"that's\":\n",
    "            cleaned_tokens.append('that')\n",
    "            cleaned_tokens.append('is')\n",
    "            continue\n",
    "        if cleaned_token == \"i'd\":\n",
    "            cleaned_tokens.append('i')\n",
    "            cleaned_tokens.append('would')\n",
    "            continue\n",
    "        if cleaned_token == \"you'd\":\n",
    "            cleaned_tokens.append('you')\n",
    "            cleaned_tokens.append('would')\n",
    "            continue\n",
    "        if cleaned_token == \"there's\":\n",
    "            cleaned_tokens.append('there')\n",
    "            cleaned_tokens.append('is')\n",
    "            continue\n",
    "        if cleaned_token == \"what's\":\n",
    "            cleaned_tokens.append('what')\n",
    "            cleaned_tokens.append('is')\n",
    "            continue\n",
    "        if cleaned_token == \"how's\":\n",
    "            cleaned_tokens.append('how')\n",
    "            cleaned_tokens.append('is')\n",
    "            continue\n",
    "        if cleaned_token == \"who's\":\n",
    "            cleaned_tokens.append('who')\n",
    "            cleaned_tokens.append('is')\n",
    "            continue\n",
    "        if cleaned_token == \"y'all\" or cleaned_token == \"ya'll\":\n",
    "            cleaned_tokens.append('you')\n",
    "            cleaned_tokens.append('all')\n",
    "            continue\n",
    "\n",
    "        if cleaned_token.strip() and cleaned_token not in string.punctuation: \n",
    "            cleaned_tokens.append(cleaned_token)\n",
    "            \n",
    "    return cleaned_tokens"
   ]
  },
  {
   "cell_type": "code",
   "execution_count": 92,
   "metadata": {},
   "outputs": [
    {
     "name": "stdout",
     "output_type": "stream",
     "text": [
      "['Happy', 'birthday', 'to', 'my', 'girl', 'ð\\x9f\\x98\\x8að\\x9f\\x98\\x98â\\x9d¤ï¸\\x8f', '@gravetwerker', 'https://t.co/FhyHW9pQmM']\n"
     ]
    }
   ],
   "source": [
    "print(documents[4])"
   ]
  },
  {
   "cell_type": "code",
   "execution_count": 93,
   "metadata": {},
   "outputs": [
    {
     "name": "stdout",
     "output_type": "stream",
     "text": [
      "['happy', 'birthday', 'to', 'my', 'girl']\n"
     ]
    }
   ],
   "source": [
    "print(process_token(documents[4]))"
   ]
  },
  {
   "cell_type": "code",
   "execution_count": 94,
   "metadata": {},
   "outputs": [],
   "source": [
    "cleaned_documents = [process_token(document) for document in documents]"
   ]
  },
  {
   "cell_type": "code",
   "execution_count": 95,
   "metadata": {},
   "outputs": [
    {
     "name": "stdout",
     "output_type": "stream",
     "text": [
      "['happy', 'birthday', 'to', 'my', 'girl']\n"
     ]
    }
   ],
   "source": [
    "print(cleaned_documents[4])"
   ]
  },
  {
   "cell_type": "code",
   "execution_count": 18,
   "metadata": {},
   "outputs": [],
   "source": [
    "# word 2 vec\n",
    "w2v_model = gensim.models.word2vec.Word2Vec(size=W2V_SIZE, \n",
    "                                            window=W2V_WINDOW, \n",
    "                                            min_count=W2V_MIN_COUNT, \n",
    "                                            workers=8)"
   ]
  },
  {
   "cell_type": "code",
   "execution_count": 19,
   "metadata": {},
   "outputs": [
    {
     "name": "stderr",
     "output_type": "stream",
     "text": [
      "2020-11-28 22:34:47,810 : INFO : collecting all words and their counts\n",
      "2020-11-28 22:34:47,811 : INFO : PROGRESS: at sentence #0, processed 0 words, keeping 0 word types\n",
      "2020-11-28 22:34:47,834 : INFO : PROGRESS: at sentence #10000, processed 72802 words, keeping 16011 word types\n",
      "2020-11-28 22:34:47,860 : INFO : PROGRESS: at sentence #20000, processed 145975 words, keeping 25017 word types\n",
      "2020-11-28 22:34:47,899 : INFO : PROGRESS: at sentence #30000, processed 218582 words, keeping 32440 word types\n",
      "2020-11-28 22:34:47,935 : INFO : PROGRESS: at sentence #40000, processed 291672 words, keeping 39054 word types\n",
      "2020-11-28 22:34:47,988 : INFO : PROGRESS: at sentence #50000, processed 363607 words, keeping 44999 word types\n",
      "2020-11-28 22:34:48,022 : INFO : PROGRESS: at sentence #60000, processed 436563 words, keeping 50537 word types\n",
      "2020-11-28 22:34:48,055 : INFO : PROGRESS: at sentence #70000, processed 508700 words, keeping 55746 word types\n",
      "2020-11-28 22:34:48,083 : INFO : PROGRESS: at sentence #80000, processed 581595 words, keeping 60780 word types\n",
      "2020-11-28 22:34:48,103 : INFO : PROGRESS: at sentence #90000, processed 654165 words, keeping 65611 word types\n",
      "2020-11-28 22:34:48,132 : INFO : PROGRESS: at sentence #100000, processed 726816 words, keeping 70453 word types\n",
      "2020-11-28 22:34:48,157 : INFO : PROGRESS: at sentence #110000, processed 799196 words, keeping 74911 word types\n",
      "2020-11-28 22:34:48,183 : INFO : PROGRESS: at sentence #120000, processed 871508 words, keeping 79210 word types\n",
      "2020-11-28 22:34:48,204 : INFO : PROGRESS: at sentence #130000, processed 944430 words, keeping 83525 word types\n",
      "2020-11-28 22:34:48,237 : INFO : PROGRESS: at sentence #140000, processed 1017048 words, keeping 87710 word types\n",
      "2020-11-28 22:34:48,263 : INFO : PROGRESS: at sentence #150000, processed 1088906 words, keeping 91744 word types\n",
      "2020-11-28 22:34:48,286 : INFO : PROGRESS: at sentence #160000, processed 1161716 words, keeping 95643 word types\n",
      "2020-11-28 22:34:48,297 : INFO : collected 97196 word types from a corpus of 1190692 raw words and 163982 sentences\n",
      "2020-11-28 22:34:48,298 : INFO : Loading a fresh vocabulary\n",
      "2020-11-28 22:34:48,352 : INFO : effective_min_count=10 retains 9711 unique words (9% of original 97196, drops 87485)\n",
      "2020-11-28 22:34:48,353 : INFO : effective_min_count=10 leaves 1040499 word corpus (87% of original 1190692, drops 150193)\n",
      "2020-11-28 22:34:48,379 : INFO : deleting the raw counts dictionary of 97196 items\n",
      "2020-11-28 22:34:48,382 : INFO : sample=0.001 downsamples 44 most-common words\n",
      "2020-11-28 22:34:48,383 : INFO : downsampling leaves estimated 974406 word corpus (93.6% of prior 1040499)\n",
      "2020-11-28 22:34:48,416 : INFO : estimated required memory for 9711 words and 300 dimensions: 28161900 bytes\n",
      "2020-11-28 22:34:48,417 : INFO : resetting layer weights\n"
     ]
    }
   ],
   "source": [
    "w2v_model.build_vocab(documents)"
   ]
  },
  {
   "cell_type": "code",
   "execution_count": 20,
   "metadata": {},
   "outputs": [
    {
     "name": "stdout",
     "output_type": "stream",
     "text": [
      "Vocab size 9711\n"
     ]
    }
   ],
   "source": [
    "words = w2v_model.wv.vocab.keys()\n",
    "vocab_size = len(words)\n",
    "print(\"Vocab size\", vocab_size)"
   ]
  },
  {
   "cell_type": "code",
   "execution_count": 21,
   "metadata": {},
   "outputs": [
    {
     "name": "stderr",
     "output_type": "stream",
     "text": [
      "2020-11-28 22:35:02,990 : INFO : training model with 8 workers on 9711 vocabulary and 300 features, using sg=0 hs=0 sample=0.001 negative=5 window=7\n",
      "2020-11-28 22:35:03,994 : INFO : worker thread finished; awaiting finish of 7 more threads\n",
      "2020-11-28 22:35:03,998 : INFO : worker thread finished; awaiting finish of 6 more threads\n",
      "2020-11-28 22:35:04,008 : INFO : worker thread finished; awaiting finish of 5 more threads\n",
      "2020-11-28 22:35:04,054 : INFO : EPOCH 1 - PROGRESS: at 96.65% examples, 906096 words/s, in_qsize 4, out_qsize 1\n",
      "2020-11-28 22:35:04,055 : INFO : worker thread finished; awaiting finish of 4 more threads\n",
      "2020-11-28 22:35:04,059 : INFO : worker thread finished; awaiting finish of 3 more threads\n",
      "2020-11-28 22:35:04,065 : INFO : worker thread finished; awaiting finish of 2 more threads\n",
      "2020-11-28 22:35:04,080 : INFO : worker thread finished; awaiting finish of 1 more threads\n",
      "2020-11-28 22:35:04,082 : INFO : worker thread finished; awaiting finish of 0 more threads\n",
      "2020-11-28 22:35:04,083 : INFO : EPOCH - 1 : training on 1190692 raw words (974796 effective words) took 1.1s, 912222 effective words/s\n",
      "2020-11-28 22:35:05,113 : INFO : EPOCH 2 - PROGRESS: at 90.69% examples, 873572 words/s, in_qsize 11, out_qsize 1\n",
      "2020-11-28 22:35:05,133 : INFO : worker thread finished; awaiting finish of 7 more threads\n",
      "2020-11-28 22:35:05,137 : INFO : worker thread finished; awaiting finish of 6 more threads\n",
      "2020-11-28 22:35:05,154 : INFO : worker thread finished; awaiting finish of 5 more threads\n",
      "2020-11-28 22:35:05,181 : INFO : worker thread finished; awaiting finish of 4 more threads\n",
      "2020-11-28 22:35:05,190 : INFO : worker thread finished; awaiting finish of 3 more threads\n",
      "2020-11-28 22:35:05,196 : INFO : worker thread finished; awaiting finish of 2 more threads\n",
      "2020-11-28 22:35:05,210 : INFO : worker thread finished; awaiting finish of 1 more threads\n",
      "2020-11-28 22:35:05,216 : INFO : worker thread finished; awaiting finish of 0 more threads\n",
      "2020-11-28 22:35:05,217 : INFO : EPOCH - 2 : training on 1190692 raw words (974493 effective words) took 1.1s, 874213 effective words/s\n",
      "2020-11-28 22:35:06,249 : INFO : EPOCH 3 - PROGRESS: at 88.96% examples, 851404 words/s, in_qsize 14, out_qsize 0\n",
      "2020-11-28 22:35:06,326 : INFO : worker thread finished; awaiting finish of 7 more threads\n",
      "2020-11-28 22:35:06,326 : INFO : worker thread finished; awaiting finish of 6 more threads\n",
      "2020-11-28 22:35:06,328 : INFO : worker thread finished; awaiting finish of 5 more threads\n",
      "2020-11-28 22:35:06,333 : INFO : worker thread finished; awaiting finish of 4 more threads\n",
      "2020-11-28 22:35:06,338 : INFO : worker thread finished; awaiting finish of 3 more threads\n",
      "2020-11-28 22:35:06,355 : INFO : worker thread finished; awaiting finish of 2 more threads\n",
      "2020-11-28 22:35:06,361 : INFO : worker thread finished; awaiting finish of 1 more threads\n",
      "2020-11-28 22:35:06,365 : INFO : worker thread finished; awaiting finish of 0 more threads\n",
      "2020-11-28 22:35:06,366 : INFO : EPOCH - 3 : training on 1190692 raw words (974244 effective words) took 1.1s, 858218 effective words/s\n",
      "2020-11-28 22:35:07,378 : INFO : EPOCH 4 - PROGRESS: at 89.84% examples, 874987 words/s, in_qsize 12, out_qsize 1\n",
      "2020-11-28 22:35:07,436 : INFO : worker thread finished; awaiting finish of 7 more threads\n",
      "2020-11-28 22:35:07,463 : INFO : worker thread finished; awaiting finish of 6 more threads\n",
      "2020-11-28 22:35:07,473 : INFO : worker thread finished; awaiting finish of 5 more threads\n",
      "2020-11-28 22:35:07,482 : INFO : worker thread finished; awaiting finish of 4 more threads\n",
      "2020-11-28 22:35:07,483 : INFO : worker thread finished; awaiting finish of 3 more threads\n",
      "2020-11-28 22:35:07,507 : INFO : worker thread finished; awaiting finish of 2 more threads\n",
      "2020-11-28 22:35:07,509 : INFO : worker thread finished; awaiting finish of 1 more threads\n",
      "2020-11-28 22:35:07,517 : INFO : worker thread finished; awaiting finish of 0 more threads\n",
      "2020-11-28 22:35:07,518 : INFO : EPOCH - 4 : training on 1190692 raw words (974541 effective words) took 1.1s, 854717 effective words/s\n",
      "2020-11-28 22:35:08,555 : INFO : EPOCH 5 - PROGRESS: at 93.18% examples, 888525 words/s, in_qsize 9, out_qsize 0\n",
      "2020-11-28 22:35:08,559 : INFO : worker thread finished; awaiting finish of 7 more threads\n",
      "2020-11-28 22:35:08,560 : INFO : worker thread finished; awaiting finish of 6 more threads\n",
      "2020-11-28 22:35:08,565 : INFO : worker thread finished; awaiting finish of 5 more threads\n",
      "2020-11-28 22:35:08,569 : INFO : worker thread finished; awaiting finish of 4 more threads\n",
      "2020-11-28 22:35:08,595 : INFO : worker thread finished; awaiting finish of 3 more threads\n",
      "2020-11-28 22:35:08,616 : INFO : worker thread finished; awaiting finish of 2 more threads\n",
      "2020-11-28 22:35:08,617 : INFO : worker thread finished; awaiting finish of 1 more threads\n",
      "2020-11-28 22:35:08,622 : INFO : worker thread finished; awaiting finish of 0 more threads\n",
      "2020-11-28 22:35:08,622 : INFO : EPOCH - 5 : training on 1190692 raw words (974666 effective words) took 1.1s, 894771 effective words/s\n",
      "2020-11-28 22:35:09,647 : INFO : EPOCH 6 - PROGRESS: at 86.42% examples, 839601 words/s, in_qsize 16, out_qsize 0\n",
      "2020-11-28 22:35:09,747 : INFO : worker thread finished; awaiting finish of 7 more threads\n",
      "2020-11-28 22:35:09,749 : INFO : worker thread finished; awaiting finish of 6 more threads\n",
      "2020-11-28 22:35:09,795 : INFO : worker thread finished; awaiting finish of 5 more threads\n",
      "2020-11-28 22:35:09,796 : INFO : worker thread finished; awaiting finish of 4 more threads\n",
      "2020-11-28 22:35:09,799 : INFO : worker thread finished; awaiting finish of 3 more threads\n",
      "2020-11-28 22:35:09,816 : INFO : worker thread finished; awaiting finish of 2 more threads\n",
      "2020-11-28 22:35:09,845 : INFO : worker thread finished; awaiting finish of 1 more threads\n",
      "2020-11-28 22:35:09,846 : INFO : worker thread finished; awaiting finish of 0 more threads\n",
      "2020-11-28 22:35:09,847 : INFO : EPOCH - 6 : training on 1190692 raw words (974492 effective words) took 1.2s, 809183 effective words/s\n",
      "2020-11-28 22:35:10,864 : INFO : EPOCH 7 - PROGRESS: at 83.90% examples, 814908 words/s, in_qsize 16, out_qsize 0\n",
      "2020-11-28 22:35:10,984 : INFO : worker thread finished; awaiting finish of 7 more threads\n",
      "2020-11-28 22:35:10,987 : INFO : worker thread finished; awaiting finish of 6 more threads\n",
      "2020-11-28 22:35:10,987 : INFO : worker thread finished; awaiting finish of 5 more threads\n",
      "2020-11-28 22:35:11,003 : INFO : worker thread finished; awaiting finish of 4 more threads\n",
      "2020-11-28 22:35:11,025 : INFO : worker thread finished; awaiting finish of 3 more threads\n",
      "2020-11-28 22:35:11,039 : INFO : worker thread finished; awaiting finish of 2 more threads\n",
      "2020-11-28 22:35:11,047 : INFO : worker thread finished; awaiting finish of 1 more threads\n",
      "2020-11-28 22:35:11,051 : INFO : worker thread finished; awaiting finish of 0 more threads\n",
      "2020-11-28 22:35:11,052 : INFO : EPOCH - 7 : training on 1190692 raw words (974640 effective words) took 1.2s, 818166 effective words/s\n",
      "2020-11-28 22:35:12,074 : INFO : EPOCH 8 - PROGRESS: at 82.22% examples, 800592 words/s, in_qsize 15, out_qsize 0\n",
      "2020-11-28 22:35:12,196 : INFO : worker thread finished; awaiting finish of 7 more threads\n",
      "2020-11-28 22:35:12,205 : INFO : worker thread finished; awaiting finish of 6 more threads\n",
      "2020-11-28 22:35:12,221 : INFO : worker thread finished; awaiting finish of 5 more threads\n",
      "2020-11-28 22:35:12,231 : INFO : worker thread finished; awaiting finish of 4 more threads\n",
      "2020-11-28 22:35:12,241 : INFO : worker thread finished; awaiting finish of 3 more threads\n",
      "2020-11-28 22:35:12,249 : INFO : worker thread finished; awaiting finish of 2 more threads\n",
      "2020-11-28 22:35:12,262 : INFO : worker thread finished; awaiting finish of 1 more threads\n",
      "2020-11-28 22:35:12,271 : INFO : worker thread finished; awaiting finish of 0 more threads\n",
      "2020-11-28 22:35:12,272 : INFO : EPOCH - 8 : training on 1190692 raw words (974202 effective words) took 1.2s, 812322 effective words/s\n",
      "2020-11-28 22:35:13,296 : INFO : EPOCH 9 - PROGRESS: at 91.48% examples, 882308 words/s, in_qsize 11, out_qsize 0\n",
      "2020-11-28 22:35:13,365 : INFO : worker thread finished; awaiting finish of 7 more threads\n",
      "2020-11-28 22:35:13,366 : INFO : worker thread finished; awaiting finish of 6 more threads\n"
     ]
    },
    {
     "name": "stderr",
     "output_type": "stream",
     "text": [
      "2020-11-28 22:35:13,367 : INFO : worker thread finished; awaiting finish of 5 more threads\n",
      "2020-11-28 22:35:13,368 : INFO : worker thread finished; awaiting finish of 4 more threads\n",
      "2020-11-28 22:35:13,373 : INFO : worker thread finished; awaiting finish of 3 more threads\n",
      "2020-11-28 22:35:13,401 : INFO : worker thread finished; awaiting finish of 2 more threads\n",
      "2020-11-28 22:35:13,405 : INFO : worker thread finished; awaiting finish of 1 more threads\n",
      "2020-11-28 22:35:13,407 : INFO : worker thread finished; awaiting finish of 0 more threads\n",
      "2020-11-28 22:35:13,407 : INFO : EPOCH - 9 : training on 1190692 raw words (974521 effective words) took 1.1s, 869226 effective words/s\n",
      "2020-11-28 22:35:14,423 : INFO : EPOCH 10 - PROGRESS: at 85.59% examples, 833014 words/s, in_qsize 15, out_qsize 0\n",
      "2020-11-28 22:35:14,518 : INFO : worker thread finished; awaiting finish of 7 more threads\n",
      "2020-11-28 22:35:14,530 : INFO : worker thread finished; awaiting finish of 6 more threads\n",
      "2020-11-28 22:35:14,535 : INFO : worker thread finished; awaiting finish of 5 more threads\n",
      "2020-11-28 22:35:14,542 : INFO : worker thread finished; awaiting finish of 4 more threads\n",
      "2020-11-28 22:35:14,565 : INFO : worker thread finished; awaiting finish of 3 more threads\n",
      "2020-11-28 22:35:14,581 : INFO : worker thread finished; awaiting finish of 2 more threads\n",
      "2020-11-28 22:35:14,587 : INFO : worker thread finished; awaiting finish of 1 more threads\n",
      "2020-11-28 22:35:14,590 : INFO : worker thread finished; awaiting finish of 0 more threads\n",
      "2020-11-28 22:35:14,591 : INFO : EPOCH - 10 : training on 1190692 raw words (974349 effective words) took 1.2s, 832840 effective words/s\n",
      "2020-11-28 22:35:15,605 : INFO : EPOCH 11 - PROGRESS: at 83.07% examples, 807351 words/s, in_qsize 15, out_qsize 0\n",
      "2020-11-28 22:35:15,727 : INFO : worker thread finished; awaiting finish of 7 more threads\n",
      "2020-11-28 22:35:15,752 : INFO : worker thread finished; awaiting finish of 6 more threads\n",
      "2020-11-28 22:35:15,784 : INFO : worker thread finished; awaiting finish of 5 more threads\n",
      "2020-11-28 22:35:15,791 : INFO : worker thread finished; awaiting finish of 4 more threads\n",
      "2020-11-28 22:35:15,799 : INFO : worker thread finished; awaiting finish of 3 more threads\n",
      "2020-11-28 22:35:15,813 : INFO : worker thread finished; awaiting finish of 2 more threads\n",
      "2020-11-28 22:35:15,815 : INFO : worker thread finished; awaiting finish of 1 more threads\n",
      "2020-11-28 22:35:15,819 : INFO : worker thread finished; awaiting finish of 0 more threads\n",
      "2020-11-28 22:35:15,820 : INFO : EPOCH - 11 : training on 1190692 raw words (974329 effective words) took 1.2s, 800369 effective words/s\n",
      "2020-11-28 22:35:16,840 : INFO : EPOCH 12 - PROGRESS: at 73.84% examples, 714199 words/s, in_qsize 15, out_qsize 0\n",
      "2020-11-28 22:35:17,046 : INFO : worker thread finished; awaiting finish of 7 more threads\n",
      "2020-11-28 22:35:17,060 : INFO : worker thread finished; awaiting finish of 6 more threads\n",
      "2020-11-28 22:35:17,065 : INFO : worker thread finished; awaiting finish of 5 more threads\n",
      "2020-11-28 22:35:17,077 : INFO : worker thread finished; awaiting finish of 4 more threads\n",
      "2020-11-28 22:35:17,089 : INFO : worker thread finished; awaiting finish of 3 more threads\n",
      "2020-11-28 22:35:17,097 : INFO : worker thread finished; awaiting finish of 2 more threads\n",
      "2020-11-28 22:35:17,101 : INFO : worker thread finished; awaiting finish of 1 more threads\n",
      "2020-11-28 22:35:17,111 : INFO : worker thread finished; awaiting finish of 0 more threads\n",
      "2020-11-28 22:35:17,112 : INFO : EPOCH - 12 : training on 1190692 raw words (974407 effective words) took 1.3s, 761152 effective words/s\n",
      "2020-11-28 22:35:18,132 : INFO : EPOCH 13 - PROGRESS: at 91.53% examples, 883976 words/s, in_qsize 11, out_qsize 0\n",
      "2020-11-28 22:35:18,170 : INFO : worker thread finished; awaiting finish of 7 more threads\n",
      "2020-11-28 22:35:18,183 : INFO : worker thread finished; awaiting finish of 6 more threads\n",
      "2020-11-28 22:35:18,190 : INFO : worker thread finished; awaiting finish of 5 more threads\n",
      "2020-11-28 22:35:18,202 : INFO : worker thread finished; awaiting finish of 4 more threads\n",
      "2020-11-28 22:35:18,218 : INFO : worker thread finished; awaiting finish of 3 more threads\n",
      "2020-11-28 22:35:18,218 : INFO : worker thread finished; awaiting finish of 2 more threads\n",
      "2020-11-28 22:35:18,228 : INFO : worker thread finished; awaiting finish of 1 more threads\n",
      "2020-11-28 22:35:18,246 : INFO : worker thread finished; awaiting finish of 0 more threads\n",
      "2020-11-28 22:35:18,247 : INFO : EPOCH - 13 : training on 1190692 raw words (974394 effective words) took 1.1s, 867805 effective words/s\n",
      "2020-11-28 22:35:19,272 : INFO : EPOCH 14 - PROGRESS: at 86.42% examples, 830661 words/s, in_qsize 15, out_qsize 0\n",
      "2020-11-28 22:35:19,354 : INFO : worker thread finished; awaiting finish of 7 more threads\n",
      "2020-11-28 22:35:19,371 : INFO : worker thread finished; awaiting finish of 6 more threads\n",
      "2020-11-28 22:35:19,384 : INFO : worker thread finished; awaiting finish of 5 more threads\n",
      "2020-11-28 22:35:19,385 : INFO : worker thread finished; awaiting finish of 4 more threads\n",
      "2020-11-28 22:35:19,398 : INFO : worker thread finished; awaiting finish of 3 more threads\n",
      "2020-11-28 22:35:19,401 : INFO : worker thread finished; awaiting finish of 2 more threads\n",
      "2020-11-28 22:35:19,403 : INFO : worker thread finished; awaiting finish of 1 more threads\n",
      "2020-11-28 22:35:19,406 : INFO : worker thread finished; awaiting finish of 0 more threads\n",
      "2020-11-28 22:35:19,407 : INFO : EPOCH - 14 : training on 1190692 raw words (974153 effective words) took 1.1s, 848177 effective words/s\n",
      "2020-11-28 22:35:20,421 : INFO : EPOCH 15 - PROGRESS: at 83.90% examples, 815364 words/s, in_qsize 15, out_qsize 0\n",
      "2020-11-28 22:35:20,539 : INFO : worker thread finished; awaiting finish of 7 more threads\n",
      "2020-11-28 22:35:20,548 : INFO : worker thread finished; awaiting finish of 6 more threads\n",
      "2020-11-28 22:35:20,553 : INFO : worker thread finished; awaiting finish of 5 more threads\n",
      "2020-11-28 22:35:20,558 : INFO : worker thread finished; awaiting finish of 4 more threads\n",
      "2020-11-28 22:35:20,562 : INFO : worker thread finished; awaiting finish of 3 more threads\n",
      "2020-11-28 22:35:20,580 : INFO : worker thread finished; awaiting finish of 2 more threads\n",
      "2020-11-28 22:35:20,587 : INFO : worker thread finished; awaiting finish of 1 more threads\n",
      "2020-11-28 22:35:20,589 : INFO : worker thread finished; awaiting finish of 0 more threads\n",
      "2020-11-28 22:35:20,590 : INFO : EPOCH - 15 : training on 1190692 raw words (974423 effective words) took 1.2s, 831617 effective words/s\n",
      "2020-11-28 22:35:21,617 : INFO : EPOCH 16 - PROGRESS: at 84.75% examples, 822719 words/s, in_qsize 15, out_qsize 0\n",
      "2020-11-28 22:35:21,748 : INFO : worker thread finished; awaiting finish of 7 more threads\n",
      "2020-11-28 22:35:21,754 : INFO : worker thread finished; awaiting finish of 6 more threads\n",
      "2020-11-28 22:35:21,763 : INFO : worker thread finished; awaiting finish of 5 more threads\n",
      "2020-11-28 22:35:21,769 : INFO : worker thread finished; awaiting finish of 4 more threads\n",
      "2020-11-28 22:35:21,774 : INFO : worker thread finished; awaiting finish of 3 more threads\n",
      "2020-11-28 22:35:21,781 : INFO : worker thread finished; awaiting finish of 2 more threads\n",
      "2020-11-28 22:35:21,795 : INFO : worker thread finished; awaiting finish of 1 more threads\n",
      "2020-11-28 22:35:21,796 : INFO : worker thread finished; awaiting finish of 0 more threads\n",
      "2020-11-28 22:35:21,797 : INFO : EPOCH - 16 : training on 1190692 raw words (974432 effective words) took 1.2s, 823285 effective words/s\n",
      "2020-11-28 22:35:22,818 : INFO : EPOCH 17 - PROGRESS: at 89.83% examples, 867475 words/s, in_qsize 13, out_qsize 0\n",
      "2020-11-28 22:35:22,868 : INFO : worker thread finished; awaiting finish of 7 more threads\n",
      "2020-11-28 22:35:22,869 : INFO : worker thread finished; awaiting finish of 6 more threads\n",
      "2020-11-28 22:35:22,877 : INFO : worker thread finished; awaiting finish of 5 more threads\n",
      "2020-11-28 22:35:22,899 : INFO : worker thread finished; awaiting finish of 4 more threads\n",
      "2020-11-28 22:35:22,923 : INFO : worker thread finished; awaiting finish of 3 more threads\n",
      "2020-11-28 22:35:22,925 : INFO : worker thread finished; awaiting finish of 2 more threads\n"
     ]
    },
    {
     "name": "stderr",
     "output_type": "stream",
     "text": [
      "2020-11-28 22:35:22,926 : INFO : worker thread finished; awaiting finish of 1 more threads\n",
      "2020-11-28 22:35:22,957 : INFO : worker thread finished; awaiting finish of 0 more threads\n",
      "2020-11-28 22:35:22,958 : INFO : EPOCH - 17 : training on 1190692 raw words (973834 effective words) took 1.1s, 848004 effective words/s\n",
      "2020-11-28 22:35:23,975 : INFO : EPOCH 18 - PROGRESS: at 90.62% examples, 880780 words/s, in_qsize 12, out_qsize 0\n",
      "2020-11-28 22:35:24,014 : INFO : worker thread finished; awaiting finish of 7 more threads\n",
      "2020-11-28 22:35:24,045 : INFO : worker thread finished; awaiting finish of 6 more threads\n",
      "2020-11-28 22:35:24,056 : INFO : worker thread finished; awaiting finish of 5 more threads\n",
      "2020-11-28 22:35:24,060 : INFO : worker thread finished; awaiting finish of 4 more threads\n",
      "2020-11-28 22:35:24,065 : INFO : worker thread finished; awaiting finish of 3 more threads\n",
      "2020-11-28 22:35:24,069 : INFO : worker thread finished; awaiting finish of 2 more threads\n",
      "2020-11-28 22:35:24,069 : INFO : worker thread finished; awaiting finish of 1 more threads\n",
      "2020-11-28 22:35:24,071 : INFO : worker thread finished; awaiting finish of 0 more threads\n",
      "2020-11-28 22:35:24,072 : INFO : EPOCH - 18 : training on 1190692 raw words (974355 effective words) took 1.1s, 885894 effective words/s\n",
      "2020-11-28 22:35:25,092 : INFO : EPOCH 19 - PROGRESS: at 94.14% examples, 912423 words/s, in_qsize 7, out_qsize 1\n",
      "2020-11-28 22:35:25,097 : INFO : worker thread finished; awaiting finish of 7 more threads\n",
      "2020-11-28 22:35:25,111 : INFO : worker thread finished; awaiting finish of 6 more threads\n",
      "2020-11-28 22:35:25,138 : INFO : worker thread finished; awaiting finish of 5 more threads\n",
      "2020-11-28 22:35:25,153 : INFO : worker thread finished; awaiting finish of 4 more threads\n",
      "2020-11-28 22:35:25,155 : INFO : worker thread finished; awaiting finish of 3 more threads\n",
      "2020-11-28 22:35:25,158 : INFO : worker thread finished; awaiting finish of 2 more threads\n",
      "2020-11-28 22:35:25,160 : INFO : worker thread finished; awaiting finish of 1 more threads\n",
      "2020-11-28 22:35:25,165 : INFO : worker thread finished; awaiting finish of 0 more threads\n",
      "2020-11-28 22:35:25,166 : INFO : EPOCH - 19 : training on 1190692 raw words (974247 effective words) took 1.1s, 903222 effective words/s\n",
      "2020-11-28 22:35:26,205 : INFO : EPOCH 20 - PROGRESS: at 92.39% examples, 876316 words/s, in_qsize 5, out_qsize 8\n",
      "2020-11-28 22:35:26,206 : INFO : worker thread finished; awaiting finish of 7 more threads\n",
      "2020-11-28 22:35:26,209 : INFO : worker thread finished; awaiting finish of 6 more threads\n",
      "2020-11-28 22:35:26,209 : INFO : worker thread finished; awaiting finish of 5 more threads\n",
      "2020-11-28 22:35:26,210 : INFO : worker thread finished; awaiting finish of 4 more threads\n",
      "2020-11-28 22:35:26,211 : INFO : worker thread finished; awaiting finish of 3 more threads\n",
      "2020-11-28 22:35:26,212 : INFO : worker thread finished; awaiting finish of 2 more threads\n",
      "2020-11-28 22:35:26,242 : INFO : worker thread finished; awaiting finish of 1 more threads\n",
      "2020-11-28 22:35:26,243 : INFO : worker thread finished; awaiting finish of 0 more threads\n",
      "2020-11-28 22:35:26,244 : INFO : EPOCH - 20 : training on 1190692 raw words (974345 effective words) took 1.1s, 914246 effective words/s\n",
      "2020-11-28 22:35:27,276 : INFO : EPOCH 21 - PROGRESS: at 92.39% examples, 895593 words/s, in_qsize 10, out_qsize 0\n",
      "2020-11-28 22:35:27,284 : INFO : worker thread finished; awaiting finish of 7 more threads\n",
      "2020-11-28 22:35:27,299 : INFO : worker thread finished; awaiting finish of 6 more threads\n",
      "2020-11-28 22:35:27,301 : INFO : worker thread finished; awaiting finish of 5 more threads\n",
      "2020-11-28 22:35:27,321 : INFO : worker thread finished; awaiting finish of 4 more threads\n",
      "2020-11-28 22:35:27,334 : INFO : worker thread finished; awaiting finish of 3 more threads\n",
      "2020-11-28 22:35:27,336 : INFO : worker thread finished; awaiting finish of 2 more threads\n",
      "2020-11-28 22:35:27,348 : INFO : worker thread finished; awaiting finish of 1 more threads\n",
      "2020-11-28 22:35:27,351 : INFO : worker thread finished; awaiting finish of 0 more threads\n",
      "2020-11-28 22:35:27,352 : INFO : EPOCH - 21 : training on 1190692 raw words (974658 effective words) took 1.1s, 901760 effective words/s\n",
      "2020-11-28 22:35:28,368 : INFO : EPOCH 22 - PROGRESS: at 93.19% examples, 903923 words/s, in_qsize 8, out_qsize 1\n",
      "2020-11-28 22:35:28,394 : INFO : worker thread finished; awaiting finish of 7 more threads\n",
      "2020-11-28 22:35:28,402 : INFO : worker thread finished; awaiting finish of 6 more threads\n",
      "2020-11-28 22:35:28,413 : INFO : worker thread finished; awaiting finish of 5 more threads\n",
      "2020-11-28 22:35:28,439 : INFO : worker thread finished; awaiting finish of 4 more threads\n",
      "2020-11-28 22:35:28,446 : INFO : worker thread finished; awaiting finish of 3 more threads\n",
      "2020-11-28 22:35:28,447 : INFO : worker thread finished; awaiting finish of 2 more threads\n",
      "2020-11-28 22:35:28,455 : INFO : worker thread finished; awaiting finish of 1 more threads\n",
      "2020-11-28 22:35:28,456 : INFO : worker thread finished; awaiting finish of 0 more threads\n",
      "2020-11-28 22:35:28,457 : INFO : EPOCH - 22 : training on 1190692 raw words (974499 effective words) took 1.1s, 891443 effective words/s\n",
      "2020-11-28 22:35:29,442 : INFO : worker thread finished; awaiting finish of 7 more threads\n",
      "2020-11-28 22:35:29,472 : INFO : EPOCH 23 - PROGRESS: at 94.99% examples, 921171 words/s, in_qsize 6, out_qsize 1\n",
      "2020-11-28 22:35:29,473 : INFO : worker thread finished; awaiting finish of 6 more threads\n",
      "2020-11-28 22:35:29,489 : INFO : worker thread finished; awaiting finish of 5 more threads\n",
      "2020-11-28 22:35:29,496 : INFO : worker thread finished; awaiting finish of 4 more threads\n",
      "2020-11-28 22:35:29,501 : INFO : worker thread finished; awaiting finish of 3 more threads\n",
      "2020-11-28 22:35:29,519 : INFO : worker thread finished; awaiting finish of 2 more threads\n",
      "2020-11-28 22:35:29,524 : INFO : worker thread finished; awaiting finish of 1 more threads\n",
      "2020-11-28 22:35:29,525 : INFO : worker thread finished; awaiting finish of 0 more threads\n",
      "2020-11-28 22:35:29,525 : INFO : EPOCH - 23 : training on 1190692 raw words (974224 effective words) took 1.1s, 920613 effective words/s\n",
      "2020-11-28 22:35:30,512 : INFO : worker thread finished; awaiting finish of 7 more threads\n",
      "2020-11-28 22:35:30,536 : INFO : worker thread finished; awaiting finish of 6 more threads\n",
      "2020-11-28 22:35:30,537 : INFO : worker thread finished; awaiting finish of 5 more threads\n",
      "2020-11-28 22:35:30,543 : INFO : EPOCH 24 - PROGRESS: at 96.63% examples, 937501 words/s, in_qsize 4, out_qsize 1\n",
      "2020-11-28 22:35:30,551 : INFO : worker thread finished; awaiting finish of 4 more threads\n",
      "2020-11-28 22:35:30,553 : INFO : worker thread finished; awaiting finish of 3 more threads\n",
      "2020-11-28 22:35:30,586 : INFO : worker thread finished; awaiting finish of 2 more threads\n",
      "2020-11-28 22:35:30,598 : INFO : worker thread finished; awaiting finish of 1 more threads\n",
      "2020-11-28 22:35:30,606 : INFO : worker thread finished; awaiting finish of 0 more threads\n",
      "2020-11-28 22:35:30,607 : INFO : EPOCH - 24 : training on 1190692 raw words (974242 effective words) took 1.1s, 911827 effective words/s\n",
      "2020-11-28 22:35:31,641 : INFO : EPOCH 25 - PROGRESS: at 83.05% examples, 794411 words/s, in_qsize 13, out_qsize 2\n",
      "2020-11-28 22:35:31,748 : INFO : worker thread finished; awaiting finish of 7 more threads\n",
      "2020-11-28 22:35:31,752 : INFO : worker thread finished; awaiting finish of 6 more threads\n",
      "2020-11-28 22:35:31,757 : INFO : worker thread finished; awaiting finish of 5 more threads\n",
      "2020-11-28 22:35:31,758 : INFO : worker thread finished; awaiting finish of 4 more threads\n",
      "2020-11-28 22:35:31,775 : INFO : worker thread finished; awaiting finish of 3 more threads\n",
      "2020-11-28 22:35:31,804 : INFO : worker thread finished; awaiting finish of 2 more threads\n",
      "2020-11-28 22:35:31,806 : INFO : worker thread finished; awaiting finish of 1 more threads\n",
      "2020-11-28 22:35:31,812 : INFO : worker thread finished; awaiting finish of 0 more threads\n",
      "2020-11-28 22:35:31,813 : INFO : EPOCH - 25 : training on 1190692 raw words (974113 effective words) took 1.2s, 818253 effective words/s\n",
      "2020-11-28 22:35:32,842 : INFO : EPOCH 26 - PROGRESS: at 88.13% examples, 851195 words/s, in_qsize 14, out_qsize 1\n"
     ]
    },
    {
     "name": "stderr",
     "output_type": "stream",
     "text": [
      "2020-11-28 22:35:32,904 : INFO : worker thread finished; awaiting finish of 7 more threads\n",
      "2020-11-28 22:35:32,934 : INFO : worker thread finished; awaiting finish of 6 more threads\n",
      "2020-11-28 22:35:32,941 : INFO : worker thread finished; awaiting finish of 5 more threads\n",
      "2020-11-28 22:35:32,944 : INFO : worker thread finished; awaiting finish of 4 more threads\n",
      "2020-11-28 22:35:32,951 : INFO : worker thread finished; awaiting finish of 3 more threads\n",
      "2020-11-28 22:35:32,964 : INFO : worker thread finished; awaiting finish of 2 more threads\n",
      "2020-11-28 22:35:32,973 : INFO : worker thread finished; awaiting finish of 1 more threads\n",
      "2020-11-28 22:35:32,976 : INFO : worker thread finished; awaiting finish of 0 more threads\n",
      "2020-11-28 22:35:32,976 : INFO : EPOCH - 26 : training on 1190692 raw words (974611 effective words) took 1.1s, 852118 effective words/s\n",
      "2020-11-28 22:35:33,995 : INFO : EPOCH 27 - PROGRESS: at 83.93% examples, 811464 words/s, in_qsize 16, out_qsize 2\n",
      "2020-11-28 22:35:34,111 : INFO : worker thread finished; awaiting finish of 7 more threads\n",
      "2020-11-28 22:35:34,114 : INFO : worker thread finished; awaiting finish of 6 more threads\n",
      "2020-11-28 22:35:34,119 : INFO : worker thread finished; awaiting finish of 5 more threads\n",
      "2020-11-28 22:35:34,125 : INFO : worker thread finished; awaiting finish of 4 more threads\n",
      "2020-11-28 22:35:34,145 : INFO : worker thread finished; awaiting finish of 3 more threads\n",
      "2020-11-28 22:35:34,152 : INFO : worker thread finished; awaiting finish of 2 more threads\n",
      "2020-11-28 22:35:34,156 : INFO : worker thread finished; awaiting finish of 1 more threads\n",
      "2020-11-28 22:35:34,164 : INFO : worker thread finished; awaiting finish of 0 more threads\n",
      "2020-11-28 22:35:34,165 : INFO : EPOCH - 27 : training on 1190692 raw words (974570 effective words) took 1.2s, 827529 effective words/s\n",
      "2020-11-28 22:35:35,193 : INFO : EPOCH 28 - PROGRESS: at 83.93% examples, 805618 words/s, in_qsize 16, out_qsize 0\n",
      "2020-11-28 22:35:35,314 : INFO : worker thread finished; awaiting finish of 7 more threads\n",
      "2020-11-28 22:35:35,315 : INFO : worker thread finished; awaiting finish of 6 more threads\n",
      "2020-11-28 22:35:35,316 : INFO : worker thread finished; awaiting finish of 5 more threads\n",
      "2020-11-28 22:35:35,317 : INFO : worker thread finished; awaiting finish of 4 more threads\n",
      "2020-11-28 22:35:35,333 : INFO : worker thread finished; awaiting finish of 3 more threads\n",
      "2020-11-28 22:35:35,334 : INFO : worker thread finished; awaiting finish of 2 more threads\n",
      "2020-11-28 22:35:35,350 : INFO : worker thread finished; awaiting finish of 1 more threads\n",
      "2020-11-28 22:35:35,354 : INFO : worker thread finished; awaiting finish of 0 more threads\n",
      "2020-11-28 22:35:35,355 : INFO : EPOCH - 28 : training on 1190692 raw words (974709 effective words) took 1.2s, 827103 effective words/s\n",
      "2020-11-28 22:35:36,377 : INFO : EPOCH 29 - PROGRESS: at 86.45% examples, 834011 words/s, in_qsize 15, out_qsize 0\n",
      "2020-11-28 22:35:36,472 : INFO : worker thread finished; awaiting finish of 7 more threads\n",
      "2020-11-28 22:35:36,475 : INFO : worker thread finished; awaiting finish of 6 more threads\n",
      "2020-11-28 22:35:36,488 : INFO : worker thread finished; awaiting finish of 5 more threads\n",
      "2020-11-28 22:35:36,499 : INFO : worker thread finished; awaiting finish of 4 more threads\n",
      "2020-11-28 22:35:36,515 : INFO : worker thread finished; awaiting finish of 3 more threads\n",
      "2020-11-28 22:35:36,519 : INFO : worker thread finished; awaiting finish of 2 more threads\n",
      "2020-11-28 22:35:36,520 : INFO : worker thread finished; awaiting finish of 1 more threads\n",
      "2020-11-28 22:35:36,532 : INFO : worker thread finished; awaiting finish of 0 more threads\n",
      "2020-11-28 22:35:36,532 : INFO : EPOCH - 29 : training on 1190692 raw words (974359 effective words) took 1.2s, 835980 effective words/s\n",
      "2020-11-28 22:35:37,556 : INFO : EPOCH 30 - PROGRESS: at 92.39% examples, 889661 words/s, in_qsize 10, out_qsize 0\n",
      "2020-11-28 22:35:37,625 : INFO : worker thread finished; awaiting finish of 7 more threads\n",
      "2020-11-28 22:35:37,629 : INFO : worker thread finished; awaiting finish of 6 more threads\n",
      "2020-11-28 22:35:37,640 : INFO : worker thread finished; awaiting finish of 5 more threads\n",
      "2020-11-28 22:35:37,662 : INFO : worker thread finished; awaiting finish of 4 more threads\n",
      "2020-11-28 22:35:37,666 : INFO : worker thread finished; awaiting finish of 3 more threads\n",
      "2020-11-28 22:35:37,670 : INFO : worker thread finished; awaiting finish of 2 more threads\n",
      "2020-11-28 22:35:37,679 : INFO : worker thread finished; awaiting finish of 1 more threads\n",
      "2020-11-28 22:35:37,683 : INFO : worker thread finished; awaiting finish of 0 more threads\n",
      "2020-11-28 22:35:37,684 : INFO : EPOCH - 30 : training on 1190692 raw words (974058 effective words) took 1.1s, 855468 effective words/s\n",
      "2020-11-28 22:35:38,698 : INFO : EPOCH 31 - PROGRESS: at 89.79% examples, 874779 words/s, in_qsize 13, out_qsize 0\n",
      "2020-11-28 22:35:38,758 : INFO : worker thread finished; awaiting finish of 7 more threads\n",
      "2020-11-28 22:35:38,770 : INFO : worker thread finished; awaiting finish of 6 more threads\n",
      "2020-11-28 22:35:38,779 : INFO : worker thread finished; awaiting finish of 5 more threads\n",
      "2020-11-28 22:35:38,796 : INFO : worker thread finished; awaiting finish of 4 more threads\n",
      "2020-11-28 22:35:38,818 : INFO : worker thread finished; awaiting finish of 3 more threads\n",
      "2020-11-28 22:35:38,823 : INFO : worker thread finished; awaiting finish of 2 more threads\n",
      "2020-11-28 22:35:38,829 : INFO : worker thread finished; awaiting finish of 1 more threads\n",
      "2020-11-28 22:35:38,838 : INFO : worker thread finished; awaiting finish of 0 more threads\n",
      "2020-11-28 22:35:38,839 : INFO : EPOCH - 31 : training on 1190692 raw words (974556 effective words) took 1.1s, 853780 effective words/s\n",
      "2020-11-28 22:35:39,858 : INFO : EPOCH 32 - PROGRESS: at 81.41% examples, 788725 words/s, in_qsize 16, out_qsize 1\n",
      "2020-11-28 22:35:39,980 : INFO : worker thread finished; awaiting finish of 7 more threads\n",
      "2020-11-28 22:35:39,986 : INFO : worker thread finished; awaiting finish of 6 more threads\n",
      "2020-11-28 22:35:39,987 : INFO : worker thread finished; awaiting finish of 5 more threads\n",
      "2020-11-28 22:35:39,995 : INFO : worker thread finished; awaiting finish of 4 more threads\n",
      "2020-11-28 22:35:40,022 : INFO : worker thread finished; awaiting finish of 3 more threads\n",
      "2020-11-28 22:35:40,026 : INFO : worker thread finished; awaiting finish of 2 more threads\n",
      "2020-11-28 22:35:40,028 : INFO : worker thread finished; awaiting finish of 1 more threads\n",
      "2020-11-28 22:35:40,032 : INFO : worker thread finished; awaiting finish of 0 more threads\n",
      "2020-11-28 22:35:40,032 : INFO : EPOCH - 32 : training on 1190692 raw words (974326 effective words) took 1.2s, 825169 effective words/s\n",
      "2020-11-28 22:35:40,033 : INFO : training on a 38102144 raw words (31180788 effective words) took 37.0s, 841801 effective words/s\n"
     ]
    },
    {
     "name": "stdout",
     "output_type": "stream",
     "text": [
      "CPU times: user 1min 49s, sys: 912 ms, total: 1min 50s\n",
      "Wall time: 37 s\n"
     ]
    },
    {
     "data": {
      "text/plain": [
       "(31180788, 38102144)"
      ]
     },
     "execution_count": 21,
     "metadata": {},
     "output_type": "execute_result"
    }
   ],
   "source": [
    "%%time\n",
    "w2v_model.train(documents, total_examples=len(documents), epochs=W2V_EPOCH)"
   ]
  },
  {
   "cell_type": "code",
   "execution_count": 22,
   "metadata": {},
   "outputs": [
    {
     "name": "stderr",
     "output_type": "stream",
     "text": [
      "/Users/chieh/anaconda3/lib/python3.7/site-packages/ipykernel_launcher.py:1: DeprecationWarning: Call to deprecated `most_similar` (Method will be removed in 4.0.0, use self.wv.most_similar() instead).\n",
      "  \"\"\"Entry point for launching an IPython kernel.\n",
      "2020-11-28 22:35:40,045 : INFO : precomputing L2-norms of word weight vectors\n"
     ]
    },
    {
     "data": {
      "text/plain": [
       "[('luv', 0.4701746702194214),\n",
       " ('loved', 0.45110470056533813),\n",
       " ('loves', 0.3913668692111969),\n",
       " ('jordin', 0.3653492331504822),\n",
       " ('respect', 0.34521371126174927),\n",
       " ('loooove', 0.3359905481338501),\n",
       " ('thankful', 0.3306002914905548),\n",
       " ('mileycyrus', 0.3299708068370819),\n",
       " ('ily', 0.32589322328567505),\n",
       " ('demi', 0.32533642649650574)]"
      ]
     },
     "execution_count": 22,
     "metadata": {},
     "output_type": "execute_result"
    }
   ],
   "source": [
    "w2v_model.most_similar(\"love\")"
   ]
  },
  {
   "cell_type": "code",
   "execution_count": 23,
   "metadata": {},
   "outputs": [
    {
     "name": "stdout",
     "output_type": "stream",
     "text": [
      "Total words 97197\n"
     ]
    }
   ],
   "source": [
    "# Tokenize Text\n",
    "tokenizer = Tokenizer()\n",
    "tokenizer.fit_on_texts(df_train.TEXT)\n",
    "\n",
    "vocab_size = len(tokenizer.word_index) + 1\n",
    "print(\"Total words\", vocab_size)"
   ]
  },
  {
   "cell_type": "code",
   "execution_count": 24,
   "metadata": {},
   "outputs": [],
   "source": [
    "x_train = pad_sequences(tokenizer.texts_to_sequences(df_train.TEXT), maxlen=SEQUENCE_LENGTH)\n",
    "x_test = pad_sequences(tokenizer.texts_to_sequences(df_test.TEXT), maxlen=SEQUENCE_LENGTH)"
   ]
  },
  {
   "cell_type": "code",
   "execution_count": 25,
   "metadata": {},
   "outputs": [
    {
     "data": {
      "text/plain": [
       "['NEGATIVE', 'POSITIVE']"
      ]
     },
     "execution_count": 25,
     "metadata": {},
     "output_type": "execute_result"
    }
   ],
   "source": [
    "# Label encoder\n",
    "labels = df_train.VALUE.unique().tolist()\n",
    "labels"
   ]
  },
  {
   "cell_type": "code",
   "execution_count": 26,
   "metadata": {},
   "outputs": [
    {
     "name": "stdout",
     "output_type": "stream",
     "text": [
      "y_train (163982, 1)\n",
      "y_test (40996, 1)\n"
     ]
    }
   ],
   "source": [
    "encoder = LabelEncoder()\n",
    "encoder.fit(df_train.VALUE.tolist())\n",
    "\n",
    "y_train = encoder.transform(df_train.VALUE.tolist())\n",
    "y_test = encoder.transform(df_test.VALUE.tolist())\n",
    "\n",
    "y_train = y_train.reshape(-1,1)\n",
    "y_test = y_test.reshape(-1,1)\n",
    "\n",
    "print(\"y_train\",y_train.shape)\n",
    "print(\"y_test\",y_test.shape)"
   ]
  },
  {
   "cell_type": "code",
   "execution_count": 27,
   "metadata": {},
   "outputs": [
    {
     "name": "stdout",
     "output_type": "stream",
     "text": [
      "x_train (163982, 300)\n",
      "y_train (163982, 1)\n",
      "x_test (40996, 300)\n",
      "y_test (40996, 1)\n"
     ]
    }
   ],
   "source": [
    "print(\"x_train\", x_train.shape)\n",
    "print(\"y_train\", y_train.shape)\n",
    "print(\"x_test\", x_test.shape)\n",
    "print(\"y_test\", y_test.shape)"
   ]
  },
  {
   "cell_type": "code",
   "execution_count": 28,
   "metadata": {},
   "outputs": [
    {
     "name": "stdout",
     "output_type": "stream",
     "text": [
      "(97197, 300)\n"
     ]
    }
   ],
   "source": [
    "# Embedding Layer\n",
    "embedding_matrix = np.zeros((vocab_size, W2V_SIZE))\n",
    "for word, i in tokenizer.word_index.items():\n",
    "  if word in w2v_model.wv:\n",
    "    embedding_matrix[i] = w2v_model.wv[word]\n",
    "print(embedding_matrix.shape)"
   ]
  },
  {
   "cell_type": "code",
   "execution_count": 29,
   "metadata": {},
   "outputs": [],
   "source": [
    "embedding_layer = Embedding(vocab_size, W2V_SIZE, weights=[embedding_matrix], input_length=SEQUENCE_LENGTH, trainable=False)"
   ]
  },
  {
   "cell_type": "code",
   "execution_count": 30,
   "metadata": {},
   "outputs": [
    {
     "name": "stdout",
     "output_type": "stream",
     "text": [
      "Model: \"sequential\"\n",
      "_________________________________________________________________\n",
      "Layer (type)                 Output Shape              Param #   \n",
      "=================================================================\n",
      "embedding (Embedding)        (None, 300, 300)          29159100  \n",
      "_________________________________________________________________\n",
      "dropout (Dropout)            (None, 300, 300)          0         \n",
      "_________________________________________________________________\n",
      "lstm (LSTM)                  (None, 100)               160400    \n",
      "_________________________________________________________________\n",
      "dense (Dense)                (None, 1)                 101       \n",
      "=================================================================\n",
      "Total params: 29,319,601\n",
      "Trainable params: 160,501\n",
      "Non-trainable params: 29,159,100\n",
      "_________________________________________________________________\n"
     ]
    }
   ],
   "source": [
    "#Build Model\n",
    "model = Sequential()\n",
    "model.add(embedding_layer)\n",
    "model.add(Dropout(0.5))\n",
    "model.add(LSTM(100, dropout=0.2, recurrent_dropout=0.2))\n",
    "model.add(Dense(1, activation='sigmoid'))\n",
    "\n",
    "model.summary()"
   ]
  },
  {
   "cell_type": "code",
   "execution_count": 31,
   "metadata": {},
   "outputs": [],
   "source": [
    "# Compile model\n",
    "model.compile(loss='binary_crossentropy',\n",
    "              optimizer=\"adam\",\n",
    "              metrics=['accuracy'])"
   ]
  },
  {
   "cell_type": "code",
   "execution_count": 57,
   "metadata": {},
   "outputs": [],
   "source": [
    "# Callbacks\n",
    "callbacks = [ ReduceLROnPlateau(monitor='val_loss', patience=5, cooldown=0),\n",
    "              EarlyStopping(monitor='val_accuracy', min_delta=1e-4, patience=5)]"
   ]
  },
  {
   "cell_type": "code",
   "execution_count": 58,
   "metadata": {},
   "outputs": [
    {
     "name": "stdout",
     "output_type": "stream",
     "text": [
      "145/145 [==============================] - 1111s 8s/step - loss: 0.4811 - accuracy: 0.7627 - val_loss: 0.4646 - val_accuracy: 0.7761\n"
     ]
    }
   ],
   "source": [
    "# Train\n",
    "history = model.fit(x_train, y_train,\n",
    "                    batch_size=BATCH_SIZE,\n",
    "                    epochs=EPOCHS,\n",
    "                    validation_split=0.1,\n",
    "                    verbose=1,\n",
    "                    callbacks=callbacks)"
   ]
  },
  {
   "cell_type": "code",
   "execution_count": 59,
   "metadata": {},
   "outputs": [
    {
     "name": "stdout",
     "output_type": "stream",
     "text": [
      "41/41 [==============================] - 56s 1s/step - loss: 0.4540 - accuracy: 0.7806\n",
      "\n",
      "ACCURACY: 0.7806127667427063\n",
      "LOSS: 0.4539926052093506\n"
     ]
    }
   ],
   "source": [
    "score = model.evaluate(x_test, y_test, batch_size=BATCH_SIZE)\n",
    "print()\n",
    "print(\"ACCURACY:\",score[1])\n",
    "print(\"LOSS:\",score[0])"
   ]
  },
  {
   "cell_type": "code",
   "execution_count": 60,
   "metadata": {},
   "outputs": [
    {
     "data": {
      "image/png": "[encoded data removed]",
      "text/plain": [
       "<Figure size 432x288 with 1 Axes>"
      ]
     },
     "metadata": {
      "needs_background": "light"
     },
     "output_type": "display_data"
    },
    {
     "data": {
      "image/png": "[encoded data removed]",
      "text/plain": [
       "<Figure size 432x288 with 1 Axes>"
      ]
     },
     "metadata": {
      "needs_background": "light"
     },
     "output_type": "display_data"
    }
   ],
   "source": [
    "acc = history.history['accuracy']\n",
    "val_acc = history.history['val_accuracy']\n",
    "loss = history.history['loss']\n",
    "val_loss = history.history['val_loss']\n",
    " \n",
    "epochs = range(len(acc))\n",
    " \n",
    "plt.plot(epochs, acc, 'b', label='Training acc')\n",
    "plt.plot(epochs, val_acc, 'r', label='Validation acc')\n",
    "plt.title('Training and validation accuracy')\n",
    "plt.legend()\n",
    " \n",
    "plt.figure()\n",
    " \n",
    "plt.plot(epochs, loss, 'b', label='Training loss')\n",
    "plt.plot(epochs, val_loss, 'r', label='Validation loss')\n",
    "plt.title('Training and validation loss')\n",
    "plt.legend()\n",
    " \n",
    "plt.show()"
   ]
  },
  {
   "cell_type": "code",
   "execution_count": 38,
   "metadata": {},
   "outputs": [],
   "source": [
    "def decode_sentiment(score, include_neutral=False):\n",
    "    if include_neutral:        \n",
    "        label = NEUTRAL\n",
    "        if score <= SENTIMENT_THRESHOLDS[0]:\n",
    "            label = NEGATIVE\n",
    "        elif score >= SENTIMENT_THRESHOLDS[1]:\n",
    "            label = POSITIVE\n",
    "\n",
    "        return label\n",
    "    else:\n",
    "        return NEGATIVE if score < 0.5 else POSITIVE"
   ]
  },
  {
   "cell_type": "code",
   "execution_count": 39,
   "metadata": {},
   "outputs": [],
   "source": [
    "def predict(text, include_neutral=False):\n",
    "    start_at = time.time()\n",
    "    # Tokenize text\n",
    "    x_test = pad_sequences(tokenizer.texts_to_sequences([text]), maxlen=SEQUENCE_LENGTH)\n",
    "    # Predict\n",
    "    score = model.predict([x_test])[0]\n",
    "    # Decode sentiment\n",
    "    label = decode_sentiment(score, include_neutral=include_neutral)\n",
    "\n",
    "    return {\"label\": label, \"score\": float(score),\n",
    "       \"elapsed_time\": time.time()-start_at}  "
   ]
  },
  {
   "cell_type": "code",
   "execution_count": 61,
   "metadata": {},
   "outputs": [
    {
     "data": {
      "text/plain": [
       "{'label': 'POSITIVE',\n",
       " 'score': 0.9733065366744995,\n",
       " 'elapsed_time': 0.08148622512817383}"
      ]
     },
     "execution_count": 61,
     "metadata": {},
     "output_type": "execute_result"
    }
   ],
   "source": [
    "predict(\"I love the music\")"
   ]
  },
  {
   "cell_type": "code",
   "execution_count": 62,
   "metadata": {},
   "outputs": [
    {
     "data": {
      "text/plain": [
       "{'label': 'NEGATIVE',\n",
       " 'score': 0.4831560254096985,\n",
       " 'elapsed_time': 0.07238101959228516}"
      ]
     },
     "execution_count": 62,
     "metadata": {},
     "output_type": "execute_result"
    }
   ],
   "source": [
    "predict(\"i don't know what i'm doing\")"
   ]
  },
  {
   "cell_type": "code",
   "execution_count": 63,
   "metadata": {},
   "outputs": [
    {
     "data": {
      "text/plain": [
       "{'label': 'NEGATIVE',\n",
       " 'score': 0.021119922399520874,\n",
       " 'elapsed_time': 0.08184218406677246}"
      ]
     },
     "execution_count": 63,
     "metadata": {},
     "output_type": "execute_result"
    }
   ],
   "source": [
    "predict(\"I hate the rain\")"
   ]
  },
  {
   "cell_type": "code",
   "execution_count": 64,
   "metadata": {},
   "outputs": [
    {
     "data": {
      "text/plain": [
       "{'label': 'NEGATIVE',\n",
       " 'score': 0.08120599389076233,\n",
       " 'elapsed_time': 0.07676076889038086}"
      ]
     },
     "execution_count": 64,
     "metadata": {},
     "output_type": "execute_result"
    }
   ],
   "source": [
    "predict(\"Bad guys\")"
   ]
  },
  {
   "cell_type": "code",
   "execution_count": 65,
   "metadata": {},
   "outputs": [
    {
     "data": {
      "text/plain": [
       "{'label': 'NEGATIVE',\n",
       " 'score': 0.25452369451522827,\n",
       " 'elapsed_time': 0.07674908638000488}"
      ]
     },
     "execution_count": 65,
     "metadata": {},
     "output_type": "execute_result"
    }
   ],
   "source": [
    "predict(\"fuck u all\")"
   ]
  },
  {
   "cell_type": "code",
   "execution_count": 66,
   "metadata": {},
   "outputs": [
    {
     "data": {
      "text/plain": [
       "{'label': 'NEGATIVE',\n",
       " 'score': 0.3585672676563263,\n",
       " 'elapsed_time': 0.07496809959411621}"
      ]
     },
     "execution_count": 66,
     "metadata": {},
     "output_type": "execute_result"
    }
   ],
   "source": [
    "predict(\"I'm going under and this time I fear there's no one to save me\")"
   ]
  },
  {
   "cell_type": "code",
   "execution_count": 45,
   "metadata": {},
   "outputs": [
    {
     "name": "stderr",
     "output_type": "stream",
     "text": [
      "2020-11-28 23:00:56,152 : INFO : saving Word2Vec object under model.w2v, separately None\n",
      "2020-11-28 23:00:56,153 : INFO : not storing attribute vectors_norm\n",
      "2020-11-28 23:00:56,154 : INFO : not storing attribute cum_table\n",
      "2020-11-28 23:00:56,537 : INFO : saved model.w2v\n"
     ]
    }
   ],
   "source": [
    "#Save model\n",
    "model.save(KERAS_MODEL)\n",
    "w2v_model.save(WORD2VEC_MODEL)\n",
    "pickle.dump(tokenizer, open(TOKENIZER_MODEL, \"wb\"), protocol=0)\n",
    "pickle.dump(encoder, open(ENCODER_MODEL, \"wb\"), protocol=0)"
   ]
  },
  {
   "cell_type": "code",
   "execution_count": 67,
   "metadata": {},
   "outputs": [],
   "source": [
    "model.save(\"model_epoc3.h5\")"
   ]
  },
  {
   "cell_type": "code",
   "execution_count": null,
   "metadata": {},
   "outputs": [],
   "source": []
  }
 ],
 "metadata": {
  "kernelspec": {
   "display_name": "Python 3",
   "language": "python",
   "name": "python3"
  }
 },
 "nbformat": 4,
 "nbformat_minor": 4
}
